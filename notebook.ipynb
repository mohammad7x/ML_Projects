{
 "cells": [
  {
   "cell_type": "code",
   "execution_count": 2,
   "metadata": {
    "button": false,
    "new_sheet": false,
    "run_control": {
     "read_only": false
    }
   },
   "outputs": [],
   "source": [
    "import numpy as np \n",
    "import pandas as pd"
   ]
  },
  {
   "cell_type": "code",
   "execution_count": 3,
   "metadata": {
    "button": false,
    "new_sheet": false,
    "run_control": {
     "read_only": false
    }
   },
   "outputs": [
    {
     "data": {
      "text/html": [
       "<div>\n",
       "<style scoped>\n",
       "    .dataframe tbody tr th:only-of-type {\n",
       "        vertical-align: middle;\n",
       "    }\n",
       "\n",
       "    .dataframe tbody tr th {\n",
       "        vertical-align: top;\n",
       "    }\n",
       "\n",
       "    .dataframe thead th {\n",
       "        text-align: right;\n",
       "    }\n",
       "</style>\n",
       "<table border=\"1\" class=\"dataframe\">\n",
       "  <thead>\n",
       "    <tr style=\"text-align: right;\">\n",
       "      <th></th>\n",
       "      <th>CustomerID</th>\n",
       "      <th>Gender</th>\n",
       "      <th>Age</th>\n",
       "      <th>Annual Income (k$)</th>\n",
       "      <th>Spending Score (1-100)</th>\n",
       "    </tr>\n",
       "  </thead>\n",
       "  <tbody>\n",
       "    <tr>\n",
       "      <th>0</th>\n",
       "      <td>1</td>\n",
       "      <td>Male</td>\n",
       "      <td>19</td>\n",
       "      <td>15</td>\n",
       "      <td>39</td>\n",
       "    </tr>\n",
       "    <tr>\n",
       "      <th>1</th>\n",
       "      <td>2</td>\n",
       "      <td>Male</td>\n",
       "      <td>21</td>\n",
       "      <td>15</td>\n",
       "      <td>81</td>\n",
       "    </tr>\n",
       "    <tr>\n",
       "      <th>2</th>\n",
       "      <td>3</td>\n",
       "      <td>Female</td>\n",
       "      <td>20</td>\n",
       "      <td>16</td>\n",
       "      <td>6</td>\n",
       "    </tr>\n",
       "    <tr>\n",
       "      <th>3</th>\n",
       "      <td>4</td>\n",
       "      <td>Female</td>\n",
       "      <td>23</td>\n",
       "      <td>16</td>\n",
       "      <td>77</td>\n",
       "    </tr>\n",
       "    <tr>\n",
       "      <th>4</th>\n",
       "      <td>5</td>\n",
       "      <td>Female</td>\n",
       "      <td>31</td>\n",
       "      <td>17</td>\n",
       "      <td>40</td>\n",
       "    </tr>\n",
       "  </tbody>\n",
       "</table>\n",
       "</div>"
      ],
      "text/plain": [
       "   CustomerID  Gender  Age  Annual Income (k$)  Spending Score (1-100)\n",
       "0           1    Male   19                  15                      39\n",
       "1           2    Male   21                  15                      81\n",
       "2           3  Female   20                  16                       6\n",
       "3           4  Female   23                  16                      77\n",
       "4           5  Female   31                  17                      40"
      ]
     },
     "execution_count": 3,
     "metadata": {},
     "output_type": "execute_result"
    }
   ],
   "source": [
    "my_data = pd.read_csv(\"Customer.csv\", delimiter=\",\")\n",
    "my_data[0:5]"
   ]
  },
  {
   "cell_type": "code",
   "execution_count": 4,
   "metadata": {},
   "outputs": [
    {
     "data": {
      "text/html": [
       "<div>\n",
       "<style scoped>\n",
       "    .dataframe tbody tr th:only-of-type {\n",
       "        vertical-align: middle;\n",
       "    }\n",
       "\n",
       "    .dataframe tbody tr th {\n",
       "        vertical-align: top;\n",
       "    }\n",
       "\n",
       "    .dataframe thead th {\n",
       "        text-align: right;\n",
       "    }\n",
       "</style>\n",
       "<table border=\"1\" class=\"dataframe\">\n",
       "  <thead>\n",
       "    <tr style=\"text-align: right;\">\n",
       "      <th></th>\n",
       "      <th>CustomerID</th>\n",
       "      <th>Gender</th>\n",
       "      <th>Age</th>\n",
       "      <th>Annual Income (k$)</th>\n",
       "      <th>Spending Score (1-100)</th>\n",
       "      <th>Sex</th>\n",
       "    </tr>\n",
       "  </thead>\n",
       "  <tbody>\n",
       "    <tr>\n",
       "      <th>0</th>\n",
       "      <td>1</td>\n",
       "      <td>Male</td>\n",
       "      <td>19</td>\n",
       "      <td>15</td>\n",
       "      <td>39</td>\n",
       "      <td>1</td>\n",
       "    </tr>\n",
       "    <tr>\n",
       "      <th>1</th>\n",
       "      <td>2</td>\n",
       "      <td>Male</td>\n",
       "      <td>21</td>\n",
       "      <td>15</td>\n",
       "      <td>81</td>\n",
       "      <td>1</td>\n",
       "    </tr>\n",
       "    <tr>\n",
       "      <th>2</th>\n",
       "      <td>3</td>\n",
       "      <td>Female</td>\n",
       "      <td>20</td>\n",
       "      <td>16</td>\n",
       "      <td>6</td>\n",
       "      <td>0</td>\n",
       "    </tr>\n",
       "    <tr>\n",
       "      <th>3</th>\n",
       "      <td>4</td>\n",
       "      <td>Female</td>\n",
       "      <td>23</td>\n",
       "      <td>16</td>\n",
       "      <td>77</td>\n",
       "      <td>0</td>\n",
       "    </tr>\n",
       "    <tr>\n",
       "      <th>4</th>\n",
       "      <td>5</td>\n",
       "      <td>Female</td>\n",
       "      <td>31</td>\n",
       "      <td>17</td>\n",
       "      <td>40</td>\n",
       "      <td>0</td>\n",
       "    </tr>\n",
       "  </tbody>\n",
       "</table>\n",
       "</div>"
      ],
      "text/plain": [
       "   CustomerID  Gender  Age  Annual Income (k$)  Spending Score (1-100)  Sex\n",
       "0           1    Male   19                  15                      39    1\n",
       "1           2    Male   21                  15                      81    1\n",
       "2           3  Female   20                  16                       6    0\n",
       "3           4  Female   23                  16                      77    0\n",
       "4           5  Female   31                  17                      40    0"
      ]
     },
     "execution_count": 4,
     "metadata": {},
     "output_type": "execute_result"
    }
   ],
   "source": [
    "my_data['Sex'] = np.where(my_data['Gender'] == 'Male', 1, 0)\n",
    "my_data.head()"
   ]
  },
  {
   "cell_type": "code",
   "execution_count": 5,
   "metadata": {},
   "outputs": [
    {
     "data": {
      "text/plain": [
       "array([[ 1, 19, 15, 39],\n",
       "       [ 1, 21, 15, 81],\n",
       "       [ 0, 20, 16,  6],\n",
       "       [ 0, 23, 16, 77],\n",
       "       [ 0, 31, 17, 40]])"
      ]
     },
     "execution_count": 5,
     "metadata": {},
     "output_type": "execute_result"
    }
   ],
   "source": [
    "X = my_data[['Sex', 'Age', 'Annual Income (k$)', 'Spending Score (1-100)']].values\n",
    "X[0:5]"
   ]
  },
  {
   "cell_type": "code",
   "execution_count": 6,
   "metadata": {},
   "outputs": [],
   "source": [
    "from sklearn import preprocessing\n",
    "scaler = preprocessing.StandardScaler()\n",
    "X = scaler.fit(X).transform(X)"
   ]
  },
  {
   "cell_type": "code",
   "execution_count": 7,
   "metadata": {},
   "outputs": [
    {
     "data": {
      "image/png": "[encoded data removed]",
      "text/plain": [
       "<Figure size 640x480 with 1 Axes>"
      ]
     },
     "metadata": {},
     "output_type": "display_data"
    }
   ],
   "source": [
    "import matplotlib.pyplot as plt\n",
    "\n",
    "plt.scatter(X[:,2], X[:,3])\n",
    "\n",
    "plt.title(\"Scatter Plot Example\")\n",
    "plt.xlabel(\"Annual Incocme\")\n",
    "plt.ylabel(\"Score\")\n",
    "\n",
    "plt.show()"
   ]
  },
  {
   "cell_type": "code",
   "execution_count": 8,
   "metadata": {},
   "outputs": [
    {
     "data": {
      "image/png": "[encoded data removed]",
      "text/plain": [
       "<Figure size 640x480 with 1 Axes>"
      ]
     },
     "metadata": {},
     "output_type": "display_data"
    }
   ],
   "source": [
    "from sklearn.cluster import KMeans\n",
    "inertias = []\n",
    "for k in range(1, 11):\n",
    "    km = KMeans(n_clusters=k, random_state=0).fit(X)\n",
    "    inertias.append(km.inertia_)\n",
    "\n",
    "plt.plot(range(1, 11), inertias, marker='o')\n",
    "plt.xlabel('Number of Clusters')\n",
    "plt.ylabel('Inertia')\n",
    "plt.title('Elbow Method')\n",
    "plt.show()"
   ]
  },
  {
   "cell_type": "code",
   "execution_count": 9,
   "metadata": {},
   "outputs": [
    {
     "name": "stdout",
     "output_type": "stream",
     "text": [
      "کلاستر 0: 27 عضو\n",
      "کلاستر 1: 41 عضو\n",
      "کلاستر 2: 18 عضو\n",
      "کلاستر 3: 24 عضو\n",
      "کلاستر 4: 15 عضو\n",
      "کلاستر 5: 21 عضو\n",
      "کلاستر 6: 22 عضو\n",
      "کلاستر 7: 32 عضو\n"
     ]
    }
   ],
   "source": [
    "number_of_clusters = 8\n",
    "kmeans = KMeans(n_clusters=number_of_clusters, init='k-means++', random_state=0).fit(X)\n",
    "kmeanslabels = kmeans.labels_\n",
    "kmeanscounts = np.bincount(kmeanslabels)\n",
    "for i, count in enumerate(kmeanscounts):\n",
    "    print(f\"کلاستر {i}: {count} عضو\")"
   ]
  },
  {
   "cell_type": "code",
   "execution_count": 10,
   "metadata": {},
   "outputs": [
    {
     "name": "stdout",
     "output_type": "stream",
     "text": [
      "KMeans Silhouette Score: 0.367\n"
     ]
    }
   ],
   "source": [
    "from sklearn.metrics import silhouette_score\n",
    "KMeans_score = silhouette_score(X, kmeanslabels)\n",
    "print(f\"KMeans Silhouette Score: {KMeans_score:.3f}\")"
   ]
  },
  {
   "cell_type": "code",
   "execution_count": 11,
   "metadata": {},
   "outputs": [
    {
     "name": "stdout",
     "output_type": "stream",
     "text": [
      "کلاستر 0: 27 عضو\n",
      "کلاستر 1: 20 عضو\n",
      "کلاستر 2: 18 عضو\n",
      "کلاستر 3: 32 عضو\n",
      "کلاستر 4: 44 عضو\n",
      "کلاستر 5: 23 عضو\n",
      "کلاستر 6: 15 عضو\n",
      "کلاستر 7: 21 عضو\n"
     ]
    }
   ],
   "source": [
    "from sklearn.cluster import AgglomerativeClustering\n",
    "AggClusterNumber = 8\n",
    "AggCluster = AgglomerativeClustering(n_clusters = AggClusterNumber, linkage = 'average').fit(X)\n",
    "AggLabels = AggCluster.labels_\n",
    "Aggcounts = np.bincount(AggLabels)\n",
    "for i, count in enumerate(Aggcounts):\n",
    "    print(f\"کلاستر {i}: {count} عضو\")"
   ]
  },
  {
   "cell_type": "code",
   "execution_count": null,
   "metadata": {},
   "outputs": [],
   "source": [
    "import scipy.cluster.hierarchy as sch\n",
    "import matplotlib.pyplot as plt\n",
    "from scipy.spatial.distance import pdist, squareform\n",
    "\n",
    "# محاسبه ماتریس فاصله\n",
    "dist_matrix = pdist(X, metric='euclidean')  # فقط upper triangle لازم داریم\n",
    "\n",
    "# ساخت linkage matrix از ماتریس فاصله\n",
    "linkage_matrix = sch.linkage(dist_matrix, method='complete')\n",
    "\n",
    "# رسم Dendrogram\n",
    "plt.figure(figsize=(10, 6))\n",
    "sch.dendrogram(linkage_matrix)\n",
    "plt.title(\"Dendrogram Based on Distance Matrix\")\n",
    "plt.xlabel(\"Samples\")\n",
    "plt.ylabel(\"Distance\")\n",
    "plt.grid(True)\n",
    "output_path = \"dendrogram.png\"\n",
    "plt.savefig(output_path, dpi=300, bbox_inches='tight')\n",
    "plt.show()"
   ]
  },
  {
   "cell_type": "code",
   "execution_count": 12,
   "metadata": {},
   "outputs": [
    {
     "name": "stdout",
     "output_type": "stream",
     "text": [
      "Agglomerative Silhouette Score: 0.381\n"
     ]
    }
   ],
   "source": [
    "from sklearn.metrics import silhouette_score\n",
    "\n",
    "Agg_score = silhouette_score(X, AggLabels)\n",
    "print(f\"Agglomerative Silhouette Score: {Agg_score:.3f}\")"
   ]
  },
  {
   "cell_type": "code",
   "execution_count": 13,
   "metadata": {},
   "outputs": [
    {
     "data": {
      "text/plain": [
       "{np.int64(-1), np.int64(0), np.int64(1), np.int64(2)}"
      ]
     },
     "execution_count": 13,
     "metadata": {},
     "output_type": "execute_result"
    }
   ],
   "source": [
    "from sklearn.cluster import DBSCAN\n",
    "DBSCAN_Epsilon = 1\n",
    "DBSCAN_Min = 3\n",
    "DBSCANClustering = DBSCAN(eps = DBSCAN_Epsilon, min_samples = DBSCAN_Min).fit(X)\n",
    "DBSCANLabels = DBSCANClustering.labels_\n",
    "set (DBSCANLabels)"
   ]
  },
  {
   "cell_type": "code",
   "execution_count": 14,
   "metadata": {},
   "outputs": [
    {
     "name": "stdout",
     "output_type": "stream",
     "text": [
      "کلاستر 0: 77 عضو\n",
      "کلاستر 1: 111 عضو\n",
      "کلاستر 2: 4 عضو\n",
      "نویز (Noise): 8 نقطه\n"
     ]
    }
   ],
   "source": [
    "import numpy as np\n",
    "\n",
    "unique_labels = set(DBSCANLabels)\n",
    "\n",
    "for label in unique_labels:\n",
    "    DBSCAN_count = np.sum(DBSCANLabels == label)\n",
    "    if label == -1:\n",
    "        print(f\"نویز (Noise): {DBSCAN_count} نقطه\")\n",
    "    else:\n",
    "        print(f\"کلاستر {label}: {DBSCAN_count} عضو\")"
   ]
  },
  {
   "cell_type": "code",
   "execution_count": 15,
   "metadata": {},
   "outputs": [
    {
     "name": "stdout",
     "output_type": "stream",
     "text": [
      "Silhouette Score (بدون نویز): 0.236\n"
     ]
    }
   ],
   "source": [
    "from sklearn.metrics import silhouette_score\n",
    "\n",
    "mask = DBSCANLabels != -1\n",
    "\n",
    "if len(set(DBSCANLabels[mask])) > 1:\n",
    "    DBSCAN_score = silhouette_score(X[mask], DBSCANLabels[mask])\n",
    "    print(f\"Silhouette Score (بدون نویز): {DBSCAN_score:.3f}\")\n",
    "else:\n",
    "    print(\"برای محاسبه Silhouette حداقل دو خوشه لازم است.\")"
   ]
  },
  {
   "cell_type": "code",
   "execution_count": 17,
   "metadata": {},
   "outputs": [
    {
     "name": "stdout",
     "output_type": "stream",
     "text": [
      "بهترین روش: Agglomerative با نمره: 0.381\n"
     ]
    }
   ],
   "source": [
    "Scores = {\n",
    "    'KMeans': KMeans_score,\n",
    "    'Agglomerative': Agg_score,\n",
    "    'DBSCAN': DBSCAN_score\n",
    "}\n",
    "\n",
    "best_method = None\n",
    "best_score = -1 \n",
    "\n",
    "for method, score in Scores.items():\n",
    "    if score > best_score:\n",
    "        best_score = score\n",
    "        best_method = method\n",
    "\n",
    "print(f\"بهترین روش: {best_method} با نمره: {best_score:.3f}\")"
   ]
  }
 ],
 "metadata": {
  "anaconda-cloud": {},
  "kernelspec": {
   "display_name": "Python 3 (ipykernel)",
   "language": "python",
   "name": "python3"
  },
  "language_info": {
   "codemirror_mode": {
    "name": "ipython",
    "version": 3
   },
   "file_extension": ".py",
   "mimetype": "text/x-python",
   "name": "python",
   "nbconvert_exporter": "python",
   "pygments_lexer": "ipython3",
   "version": "3.12.0"
  },
  "widgets": {
   "state": {},
   "version": "1.1.2"
  }
 },
 "nbformat": 4,
 "nbformat_minor": 4
}
