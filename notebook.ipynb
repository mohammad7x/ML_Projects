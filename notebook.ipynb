{
 "cells": [
  {
   "cell_type": "code",
   "execution_count": 1,
   "id": "116012b1-7c11-44d4-89de-eb469867d428",
   "metadata": {},
   "outputs": [],
   "source": [
    "import cv2"
   ]
  },
  {
   "cell_type": "code",
   "execution_count": 2,
   "id": "e47ebd79-c9ac-4a9a-84c4-fa45758ebdc0",
   "metadata": {},
   "outputs": [],
   "source": [
    "# خواندن تصویر\n",
    "image = cv2.imread(\"TestImage.jpg\")  # جایگزین با مسیر تصویر خودت\n",
    "\n",
    "# بررسی اینکه تصویر لود شده یا نه\n",
    "if image is None:\n",
    "    print(\"Error: Image not found.\")\n",
    "    exit()"
   ]
  },
  {
   "cell_type": "code",
   "execution_count": null,
   "id": "34afdfd3-960f-4651-b59d-65e6e231e0a8",
   "metadata": {},
   "outputs": [],
   "source": [
    "# تبدیل به خاکستری\n",
    "gray = cv2.cvtColor(image, cv2.COLOR_BGR2GRAY)\n",
    "\n",
    "# بهبود کنتراست با Equalization\n",
    "equalized = cv2.equalizeHist(gray)\n",
    "\n",
    "# نمایش تصاویر\n",
    "cv2.imshow(\"Original Gray\", gray)\n",
    "cv2.imshow(\"Equalized Image\", equalized)\n",
    "\n",
    "# صبر تا فشار دادن کلید\n",
    "cv2.waitKey(0)\n",
    "cv2.destroyAllWindows()"
   ]
  }
 ],
 "metadata": {
  "kernelspec": {
   "display_name": "Python 3 (ipykernel)",
   "language": "python",
   "name": "python3"
  },
  "language_info": {
   "codemirror_mode": {
    "name": "ipython",
    "version": 3
   },
   "file_extension": ".py",
   "mimetype": "text/x-python",
   "name": "python",
   "nbconvert_exporter": "python",
   "pygments_lexer": "ipython3",
   "version": "3.12.0"
  }
 },
 "nbformat": 4,
 "nbformat_minor": 5
}
